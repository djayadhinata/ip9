{
 "cells": [
  {
   "cell_type": "markdown",
   "id": "294076f6",
   "metadata": {},
   "source": [
    "1. Create a 4x4 matrix with values ranging from 0 to 3.\\"
   ]
  },
  {
   "cell_type": "code",
   "execution_count": 14,
   "id": "8f65cb95",
   "metadata": {},
   "outputs": [
    {
     "data": {
      "text/plain": [
       "array([[2, 0, 3, 3],\n",
       "       [2, 2, 2, 0],\n",
       "       [2, 1, 1, 1],\n",
       "       [1, 3, 0, 2]])"
      ]
     },
     "execution_count": 14,
     "metadata": {},
     "output_type": "execute_result"
    }
   ],
   "source": [
    "from numpy import random\n",
    "random.randint(0,4 , size=(4,4))"
   ]
  },
  {
   "cell_type": "markdown",
   "id": "c6e733ab",
   "metadata": {},
   "source": [
    "2. Create and array with shape of 4x4 and turn it into two arrays along the second axis."
   ]
  },
  {
   "cell_type": "code",
   "execution_count": 1,
   "id": "1eba50ee",
   "metadata": {},
   "outputs": [
    {
     "name": "stdout",
     "output_type": "stream",
     "text": [
      "[array([[ 0,  1],\n",
      "       [ 4,  5],\n",
      "       [ 8,  9],\n",
      "       [12, 13]]), array([[ 2,  3],\n",
      "       [ 6,  7],\n",
      "       [10, 11],\n",
      "       [14, 15]]), array([], shape=(4, 0), dtype=int32)]\n"
     ]
    }
   ],
   "source": [
    "import numpy as np\n",
    "x = np.arange(16).reshape((4, 4))\n",
    "print(np.hsplit(x, [2, 6]))"
   ]
  }
 ],
 "metadata": {
  "kernelspec": {
   "display_name": "Python 3",
   "language": "python",
   "name": "python3"
  },
  "language_info": {
   "codemirror_mode": {
    "name": "ipython",
    "version": 3
   },
   "file_extension": ".py",
   "mimetype": "text/x-python",
   "name": "python",
   "nbconvert_exporter": "python",
   "pygments_lexer": "ipython3",
   "version": "3.8.8"
  }
 },
 "nbformat": 4,
 "nbformat_minor": 5
}
